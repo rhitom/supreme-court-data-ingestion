{
 "cells": [
  {
   "cell_type": "markdown",
   "metadata": {},
   "source": [
    "### CODING SAMPLE ###\n",
    "\n",
    "**USE-CASE**\n",
    "> The project seeks to build a webpage for every supreme court case argued since 1709. Here, I designed a database schema to best meet the needs of this project and implemented my design using Python and SQL. \n",
    "\n",
    "**TASKS**\n",
    "- Scrapes data files from http://scdb.wustl.edu/data.php\n",
    "- Preprocesses data - cleans and denormalizes dataframes\n",
    "- Creates data tables according to database design schema\n",
    "- Loads data into SQL database (to protect sensitive information, loading code is provided without database credentials)\n",
    "- Writes data tables to csv \n",
    "\n",
    "**OUTPUT**\n",
    "\n",
    "Three csv files of clean data tables ready for production use: \n",
    "- cases.csv\n",
    "- terms.csv\n",
    "- justices.csv"
   ]
  },
  {
   "cell_type": "code",
   "execution_count": null,
   "metadata": {},
   "outputs": [],
   "source": [
    "# IMPORTS #\n",
    "import pandas as pd\n",
    "\n",
    "# Scraper Imports #  \n",
    "import requests \n",
    "from bs4 import BeautifulSoup\n",
    "from io import BytesIO\n",
    "from zipfile import ZipFile\n",
    "from urllib.request import urlopen\n",
    "\n",
    "# SQL Imports # \n",
    "from sqlalchemy import create_engine"
   ]
  },
  {
   "cell_type": "markdown",
   "metadata": {},
   "source": [
    "#### Scraping ####"
   ]
  },
  {
   "cell_type": "code",
   "execution_count": null,
   "metadata": {},
   "outputs": [],
   "source": [
    "# UNZIPPER #\n",
    "# @params scraped link to zipped csv\n",
    "# @returns unzipped csv from scraped link\n",
    "def link_to_csv(link):\n",
    "    \n",
    "    resp = urlopen(link)                                                        # open url\n",
    "    zipfile = ZipFile(BytesIO(resp.read()))                                     # read zipfile\n",
    "    fname = zipfile.namelist()[0]                                               # get the csv file name\n",
    "    df = pd.read_csv(zipfile.open(fname), dtype=object, encoding='latin1')      # convert to pandas dateframe\n",
    "    zipfile.close()                                                             # close zipfile we don't need\n",
    "    \n",
    "    return df"
   ]
  },
  {
   "cell_type": "code",
   "execution_count": null,
   "metadata": {},
   "outputs": [],
   "source": [
    "# SCRAPER METHOD # \n",
    "# @params case_centered - boolean for whether to pull case or justice-centered data \n",
    "# @returns links to zipped csvs \n",
    "def scrape(case_centered):\n",
    "    # Making a GET request from Washington University SCDB website\n",
    "    scdb = requests.get('http://scdb.wustl.edu/data.php') \n",
    "    \n",
    "    # check status code for response received \n",
    "    # success code - 200 \n",
    "    # print(scdb) \n",
    "    \n",
    "    # Parsing the HTML \n",
    "    soup = BeautifulSoup(scdb.content, 'html.parser') \n",
    "\n",
    "    links = []\n",
    "\n",
    "    if case_centered:\n",
    "        # Find by ID -- Case-Centered by Issue/LegalProvision\n",
    "        case_centered = soup.find('div', id='SCDB_2022_01_case_LegalProvision')     # Identifies links using site-specific tag\n",
    "        for link in case_centered.find_all('a'):                                    # Finds all links within tag\n",
    "            links.append(\"http://scdb.wustl.edu/\" + link.get('href'))\n",
    "        raw_df = link_to_csv(links[0])                                              # Scrapes first link into csv\n",
    "    else:\n",
    "        # Find by ID -- Justice-Centered by Issue/LegalProvision\n",
    "        justice_centered = soup.find('div', id='SCDB_2022_01_justice_LegalProvision')   # Identifies links using site-specific tag\n",
    "        for link in justice_centered.find_all('a'):                                     # Finds all links within tag\n",
    "            links.append(\"http://scdb.wustl.edu/\" + link.get('href'))                  \n",
    "        raw_df = link_to_csv(links[0])                                                  # Scrapes first link into csv\n",
    "    \n",
    "    return raw_df"
   ]
  },
  {
   "cell_type": "markdown",
   "metadata": {},
   "source": [
    "#### Preprocessing ####"
   ]
  },
  {
   "cell_type": "code",
   "execution_count": null,
   "metadata": {},
   "outputs": [],
   "source": [
    "# CASES - KEYS\n",
    "# caseOriginKey\n",
    "caseOriginKey = pd.read_csv('/Users/rhitommishra/Desktop/ballotpedia/scdb_keys/SCDB_keys - caseOriginKey.csv')\n",
    "# petitionerkey\n",
    "petitionerKey = pd.read_csv('/Users/rhitommishra/Desktop/ballotpedia/scdb_keys/SCDB_keys - petitionerKey.csv')\n",
    "# respondentKey\n",
    "respondentKey = pd.read_csv('/Users/rhitommishra/Desktop/ballotpedia/scdb_keys/SCDB_keys - respondentKey.csv')\n",
    "\n",
    "# TERMS - KEYS\n",
    "# issueKey\n",
    "issueKey = pd.read_csv('/Users/rhitommishra/Desktop/ballotpedia/scdb_keys/SCDB_keys - issueKey.csv')\n",
    "\n",
    "# JUSTICES - KEYS\n",
    "# majOpinWriterKey\n",
    "majOpinWriterKey = pd.read_csv('/Users/rhitommishra/Desktop/ballotpedia/scdb_keys/SCDB_keys - majOpinionWriterKey.csv')\n",
    "#justiceNameKey\n",
    "justiceNameKey = pd.read_csv('/Users/rhitommishra/Desktop/ballotpedia/scdb_keys/SCDB_keys - justiceNameKey.csv')"
   ]
  },
  {
   "cell_type": "code",
   "execution_count": null,
   "metadata": {},
   "outputs": [],
   "source": [
    "# KEYS TO MANUALLY DECODE \n",
    "\n",
    "# jurisdictionKey\n",
    "jurisdictionKey = pd.read_csv('/Users/rhitommishra/Desktop/ballotpedia/scdb_keys/SCDB_keys - jurisdictionKey.csv')\n",
    "\n",
    "# caseDispositionKey\n",
    "caseDispositionKey = pd.read_csv('/Users/rhitommishra/Desktop/ballotpedia/scdb_keys/SCDB_keys - caseDispositionKey.csv')\n",
    "\n",
    "# decisionTypeKey\n",
    "decisionTypeKey = pd.read_csv('/Users/rhitommishra/Desktop/ballotpedia/scdb_keys/SCDB_keys - decisionTypeKey.csv')\n",
    "\n",
    "# decisionDirectionKey\n",
    "decisionDirectionKey = pd.read_csv('/Users/rhitommishra/Desktop/ballotpedia/scdb_keys/SCDB_keys - decisionDirectionKey.csv')\n",
    "\n",
    "# issueAreaKey\n",
    "issueAreaKey = pd.read_csv('/Users/rhitommishra/Desktop/ballotpedia/scdb_keys/SCDB_keys - issueAreaKey.csv')\n",
    "\n",
    "# voteKey\n",
    "voteKey = pd.read_csv('/Users/rhitommishra/Desktop/ballotpedia/scdb_keys/SCDB_keys - voteKey.csv')\n",
    "\n",
    "# justiceDirectionKey\n",
    "justiceDirectionKey = pd.read_csv('/Users/rhitommishra/Desktop/ballotpedia/scdb_keys/SCDB_keys - justiceDirectionKey.csv')\n",
    "\n",
    "# opinionKey\n",
    "opinionKey = pd.read_csv('/Users/rhitommishra/Desktop/ballotpedia/scdb_keys/SCDB_keys - opinionKey.csv')\n"
   ]
  },
  {
   "cell_type": "code",
   "execution_count": null,
   "metadata": {},
   "outputs": [],
   "source": [
    "# VARIABLES FROM SANDBOX #\n",
    "sandbox_cases = [\"caseId\", \"usCite\", \"caseName\",\"caseOrigin\", \"caseDisposition\",\n",
    "                \"dateArgument\", \"dateDecision\", \"petitioner\", \"respondent\", \n",
    "                \"jurisdiction\", \"decisionType\", \"decisionDirection\", \"majVotes\", \n",
    "                \"minVotes\", \"majOpinWriter\", \"issue\", \"issueArea\"]\n",
    "\n",
    "sandbox_justices = [\"caseId\", \"caseName\", \"dateDecision\", \"opinion\", \n",
    "                    \"term\", \"justiceName\", \"vote\", \"direction\"]\n",
    "\n",
    "sandbox_terms = [\"caseId\", \"chief\", \"term\"]"
   ]
  },
  {
   "cell_type": "code",
   "execution_count": null,
   "metadata": {},
   "outputs": [],
   "source": [
    "# CALCULATES PERCENTAGE OF MISSING DATA #\n",
    "# @params raw (unprocessed) dataframe \n",
    "# @returns columns where more than 30% of data is missing\n",
    "def missing(df):\n",
    "    # Counts how many values are missing per column\n",
    "    missing_count = df.isna().sum(axis=0)\n",
    "    missing_cols = list(df.isna())\n",
    "\n",
    "    # Counts how many null values total per column (again)\n",
    "    value_count = len(df)\n",
    "\n",
    "    # Makes dataframe of % missing and total missing values\n",
    "    missing_percentage = round((missing_count/ value_count) * 100, 1)\n",
    "    missing_df = pd.DataFrame({'columns': missing_cols, 'percentage': missing_percentage})\n",
    "\n",
    "    # Drops all rows where there are no null values\n",
    "    missing_df = missing_df[(missing_df['percentage']>=30)]\n",
    "\n",
    "    return missing_df['columns']"
   ]
  },
  {
   "cell_type": "code",
   "execution_count": null,
   "metadata": {},
   "outputs": [],
   "source": [
    "# DROPS COLUMNS WITH NULL OR MISSING DATA # \n",
    "# @params raw_df - unprocessed dataframe\n",
    "#         sandbox_columns - list of columns required by webpage\n",
    "# @returns clean datagrame\n",
    "def clean(raw_df, sandbox_columns):\n",
    "    # if in missing_df, drop from raw\n",
    "    is_Missing = missing(raw_df)\n",
    "    if is_Missing.empty:\n",
    "        print(\"Error message!\")\n",
    "    else:\n",
    "        df = raw_df.drop(is_Missing, axis = 1)\n",
    "    \n",
    "    # select required columns\n",
    "    df_clean = df.loc[:, sandbox_columns]\n",
    "\n",
    "    return df_clean"
   ]
  },
  {
   "cell_type": "code",
   "execution_count": null,
   "metadata": {},
   "outputs": [],
   "source": [
    "# MAKES DICTIONARY FOR DECODING #\n",
    "# @params df - dataframe to decode \n",
    "#         key - string column name of encoded normalizations\n",
    "#         val - strong column name of decoded values\n",
    "# @returns dictionary where encoded key references decoded value\n",
    "def makeDict(df, key, val):\n",
    "    keys = df[key].to_list()\n",
    "    values = df[val].to_list()\n",
    "\n",
    "    dfDict = {keys[i]: values[i] for i in range(len(keys))}\n",
    "    return dfDict"
   ]
  },
  {
   "cell_type": "code",
   "execution_count": null,
   "metadata": {},
   "outputs": [],
   "source": [
    "# DECODES NORMALIZED VARIABLES #\n",
    "# @params df - dataframe to decode\n",
    "#         df_key - dataframe of encoded variables\n",
    "#         colName - column in dataframe to decode\n",
    "# @returns dataframe with decoded column\n",
    "\n",
    "def decode(df, df_key, colName):\n",
    "    keys = df_key[colName + \"Key\"].to_list()\n",
    "    values = df_key[colName + \"Val\"].to_list()\n",
    "    keyDict = {str(keys[i]): values[i] for i in range(len(keys))}\n",
    "    \n",
    "    # print(keyDict)\n",
    "    # print(keyDict['1'])\n",
    "    decoded = df.replace({colName: keyDict})\n",
    "    return decoded"
   ]
  },
  {
   "cell_type": "markdown",
   "metadata": {},
   "source": [
    "#### Loading Data ####"
   ]
  },
  {
   "cell_type": "code",
   "execution_count": null,
   "metadata": {},
   "outputs": [],
   "source": [
    "# LOADS DATAFRAME INTO SQL DATA TABLE #\n",
    "# @params df - dataframe to load into data table\n",
    "#         username, password, host, database - login info \n",
    "\n",
    "def load(df, username, password, host, database):\n",
    "    # creates engine that connects to SQL database\n",
    "    engine=create_engine(\"postgresql+psycopg2://\" + username + \":\"+ password + \"@\" + host+ \":5432/\" + database)\n",
    "\n",
    "    try:\n",
    "        # uses to_sql function to load data into existant data tables\n",
    "        df.to_sql('scotus_cases', engine, schema='public', if_exists='append', index=False)\n",
    "    except Exception as error: ## try getting to exception ## \n",
    "        print(\"an error has occured: \", error)\n",
    "\n",
    "    finally:\n",
    "        # disconnects from server\n",
    "        engine.dispose()\n",
    "        print(\"Success!\")\n",
    "    "
   ]
  },
  {
   "cell_type": "code",
   "execution_count": null,
   "metadata": {},
   "outputs": [],
   "source": [
    "def main():\n",
    "    # Set up login info # \n",
    "    # Sample # \n",
    "    username = \"xxx\"\n",
    "    password = \"xxx\"\n",
    "    host = \"xxx\"\n",
    "    database = \"xxx\"\n",
    "\n",
    "    # Scrape raw csvs # \n",
    "    cases_raw = scrape(case_centered = True)\n",
    "    justices_raw = scrape(case_centered = False)\n",
    "\n",
    "    # Clean data #\n",
    "    cases = clean(cases_raw, sandbox_cases)\n",
    "    justices = clean(justices_raw, sandbox_justices)\n",
    "    terms = clean(justices_raw, sandbox_terms)\n",
    "    \n",
    "    # Decode cases data #\n",
    "    cases = decode(cases, jurisdictionKey, \"jurisdiction\")\n",
    "    cases = decode(cases, caseDispositionKey, \"caseDisposition\")\n",
    "    cases = decode(cases, decisionTypeKey, \"decisionType\")\n",
    "    cases = decode(cases, decisionDirectionKey, \"decisionDirection\")\n",
    "    cases = decode(cases, issueKey, \"issue\")\n",
    "    cases = decode(cases, issueAreaKey, \"issueArea\")\n",
    "\n",
    "    # Decode justices #\n",
    "    justices = decode(justices, voteKey, \"vote\")\n",
    "    justices = decode(justices, justiceDirectionKey, \"direction\")\n",
    "    justices = decode(justices, opinionKey, \"opinion\")\n",
    "\n",
    "    # Loading three main data tables # \n",
    "    load(cases, username, password, host, database)\n",
    "    load(terms, username, password, host, database)\n",
    "    load(justices, username, password, host, database)\n",
    "\n",
    "    # Loading key tables #\n",
    "    load(caseOriginKey, username, password, host, database)\n",
    "    load(petitionerKey, username, password, host, database)\n",
    "    load(respondentKey, username, password, host, database)\n",
    "    load(decisionDirectionKey, username, password, host, database)\n",
    "    load(issueKey, username, password, host, database)\n",
    "    load(majOpinWriterKey, username, password, host, database)\n",
    "    load(justiceNameKey, username, password, host, database)\n",
    "\n",
    "    # Exporting into CSVs\n",
    "    cases.to_csv('scdb_cases.csv', sep=',', index=False, encoding='utf-8')\n",
    "    terms.to_csv('scdb_outcomes.csv', sep=',', index=False, encoding='utf-8')\n",
    "    justices.to_csv('scdb_justices.csv', sep=',', index=False, encoding='utf-8')\n",
    "\n"
   ]
  },
  {
   "cell_type": "code",
   "execution_count": null,
   "metadata": {},
   "outputs": [],
   "source": [
    "main()"
   ]
  }
 ],
 "metadata": {
  "kernelspec": {
   "display_name": "Python 3.10.10 ('snakeTime')",
   "language": "python",
   "name": "python3"
  },
  "language_info": {
   "codemirror_mode": {
    "name": "ipython",
    "version": 3
   },
   "file_extension": ".py",
   "mimetype": "text/x-python",
   "name": "python",
   "nbconvert_exporter": "python",
   "pygments_lexer": "ipython3",
   "version": "3.10.10"
  },
  "orig_nbformat": 4,
  "vscode": {
   "interpreter": {
    "hash": "8f52b51b6a9dc7147113aea58b7b544d0a5dfbbb24dd3e1f88f14d3c2ef4b8f6"
   }
  }
 },
 "nbformat": 4,
 "nbformat_minor": 2
}
